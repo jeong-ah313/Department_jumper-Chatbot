{
 "cells": [
  {
   "cell_type": "code",
   "execution_count": null,
   "metadata": {},
   "outputs": [],
   "source": [
    "import urllib.request\n",
    "client_id = \"                   \" # 애플리케이션 등록시 발급 받은 값 입력\n",
    "client_secret = \"          \" # 애플리케이션 등록시 발급 받은 값 입력\n",
    "encText = urllib.parse.quote(\"챗봇\") #'챗봇' 을 검색하기 위해 encoding 해 줍니다.\n",
    "url = \"https://openapi.naver.com/v1/search/book?query=\" + encText +\"&display=3&sort=count\"\n",
    "'''요청 url 주소는 원하는 url에 따라 다르니 naver api에서 확인하여 주세요.'''\n",
    "request = urllib.request.Request(url) \n",
    "request.add_header(\"X-Naver-Client-Id\",client_id)\n",
    "request.add_header(\"X-Naver-Client-Secret\",client_secret)\n",
    "response = urllib.request.urlopen(request) #url + id + secret 이용하여 요청\n",
    "rescode = response.getcode() #요청 결과 저장\n",
    "if(rescode==200): #성공일경우\n",
    "    response_body = response.read() #요청 결과 불러오기\n",
    "    print(response_body.decode('utf-8')) #결과값 확인\n",
    "    import json\n",
    "    py_rt = json.loads(response_body.decode('utf-8')) #python에서 사용가능한 dictionary 형태로 변환\n",
    "    \n",
    "    print()\n",
    "    print(py_rt)\n",
    "else: #실패일경우\n",
    "    print(\"Error Code:\" + rescode)"
   ]
  },
  {
   "cell_type": "code",
   "execution_count": null,
   "metadata": {},
   "outputs": [],
   "source": [
    "url = \"http://www.kma.go.kr/weather/forecast/mid-term-rss3.jsp?stnId=109\"\n",
    "import urllib.request\n",
    "request = urllib.request.Request(url)\n",
    "response = urllib.request.urlopen(request)\n",
    "rescode = response.getcode()\n",
    "if(rescode==200):\n",
    "    response_body = response.read()\n",
    "    import xml.etree.ElementTree as elemTree\n",
    "    tree = elemTree.fromstring(response_body.decode('utf-8'))\n",
    "    print(tree)\n",
    "    "
   ]
  },
  {
   "cell_type": "markdown",
   "metadata": {},
   "source": [
    "https://datalab.naver.com/keyword/trendSearch.naver"
   ]
  },
  {
   "cell_type": "code",
   "execution_count": null,
   "metadata": {},
   "outputs": [],
   "source": [
    "import os\n",
    "import sys\n",
    "import urllib.request\n",
    "url = \"https://openapi.naver.com/v1/datalab/search\";\n",
    "body = \"{\\\"startDate\\\":\\\"2017-01-01\\\",\\\"endDate\\\":\\\"2017-04-30\\\",\\\"timeUnit\\\":\\\"month\\\",\\\"keywordGroups\\\":[{\\\"groupName\\\":\\\"한글\\\",\\\"keywords\\\":[\\\"한글\\\",\\\"korean\\\"]},{\\\"groupName\\\":\\\"영어\\\",\\\"keywords\\\":[\\\"영어\\\",\\\"english\\\"]}],\\\"device\\\":\\\"pc\\\",\\\"ages\\\":[\\\"1\\\",\\\"2\\\"],\\\"gender\\\":\\\"f\\\"}\";\n",
    "\n",
    "request = urllib.request.Request(url)\n",
    "request.add_header(\"X-Naver-Client-Id\",client_id)\n",
    "request.add_header(\"X-Naver-Client-Secret\",client_secret)\n",
    "request.add_header(\"Content-Type\",\"application/json\")\n",
    "response = urllib.request.urlopen(request, data=body.encode(\"utf-8\"))\n",
    "rescode = response.getcode()\n",
    "if(rescode==200):\n",
    "    response_body = response.read()\n",
    "    print(response_body.decode('utf-8'))\n",
    "    import json\n",
    "    py_rt = json.loads(response_body.decode('utf-8')) #python에서 사용가능한 dictionary 형태로 변환\n",
    "    print()\n",
    "    print(py_rt['results'])\n",
    "else:\n",
    "    print(\"Error Code:\" + rescode)"
   ]
  },
  {
   "cell_type": "code",
   "execution_count": null,
   "metadata": {},
   "outputs": [],
   "source": []
  }
 ],
 "metadata": {
  "kernelspec": {
   "display_name": "Python [conda env:csenv]",
   "language": "python",
   "name": "conda-env-csenv-py"
  },
  "language_info": {
   "codemirror_mode": {
    "name": "ipython",
    "version": 3
   },
   "file_extension": ".py",
   "mimetype": "text/x-python",
   "name": "python",
   "nbconvert_exporter": "python",
   "pygments_lexer": "ipython3",
   "version": "3.6.9"
  }
 },
 "nbformat": 4,
 "nbformat_minor": 4
}
